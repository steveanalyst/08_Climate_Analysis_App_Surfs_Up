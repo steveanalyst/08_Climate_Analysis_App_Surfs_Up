{
 "cells": [
  {
   "cell_type": "code",
   "execution_count": 1,
   "metadata": {},
   "outputs": [
    {
     "name": "stdout",
     "output_type": "stream",
     "text": [
      "2019-02-08 15:36:44,298 INFO sqlalchemy.engine.base.Engine SELECT CAST('test plain returns' AS VARCHAR(60)) AS anon_1\n",
      "2019-02-08 15:36:44,299 INFO sqlalchemy.engine.base.Engine ()\n",
      "2019-02-08 15:36:44,301 INFO sqlalchemy.engine.base.Engine SELECT CAST('test unicode returns' AS VARCHAR(60)) AS anon_1\n",
      "2019-02-08 15:36:44,302 INFO sqlalchemy.engine.base.Engine ()\n",
      "2019-02-08 15:36:44,303 INFO sqlalchemy.engine.base.Engine SELECT name FROM sqlite_master WHERE type='table' ORDER BY name\n",
      "2019-02-08 15:36:44,304 INFO sqlalchemy.engine.base.Engine ()\n",
      "2019-02-08 15:36:44,306 INFO sqlalchemy.engine.base.Engine PRAGMA table_info(\"measurement\")\n",
      "2019-02-08 15:36:44,306 INFO sqlalchemy.engine.base.Engine ()\n",
      "2019-02-08 15:36:44,308 INFO sqlalchemy.engine.base.Engine SELECT sql FROM  (SELECT * FROM sqlite_master UNION ALL   SELECT * FROM sqlite_temp_master) WHERE name = 'measurement' AND type = 'table'\n",
      "2019-02-08 15:36:44,309 INFO sqlalchemy.engine.base.Engine ()\n",
      "2019-02-08 15:36:44,311 INFO sqlalchemy.engine.base.Engine PRAGMA foreign_key_list(\"measurement\")\n",
      "2019-02-08 15:36:44,312 INFO sqlalchemy.engine.base.Engine ()\n",
      "2019-02-08 15:36:44,313 INFO sqlalchemy.engine.base.Engine SELECT sql FROM  (SELECT * FROM sqlite_master UNION ALL   SELECT * FROM sqlite_temp_master) WHERE name = 'measurement' AND type = 'table'\n",
      "2019-02-08 15:36:44,314 INFO sqlalchemy.engine.base.Engine ()\n",
      "2019-02-08 15:36:44,317 INFO sqlalchemy.engine.base.Engine PRAGMA index_list(\"measurement\")\n",
      "2019-02-08 15:36:44,319 INFO sqlalchemy.engine.base.Engine ()\n",
      "2019-02-08 15:36:44,320 INFO sqlalchemy.engine.base.Engine PRAGMA index_list(\"measurement\")\n",
      "2019-02-08 15:36:44,321 INFO sqlalchemy.engine.base.Engine ()\n",
      "2019-02-08 15:36:44,322 INFO sqlalchemy.engine.base.Engine SELECT sql FROM  (SELECT * FROM sqlite_master UNION ALL   SELECT * FROM sqlite_temp_master) WHERE name = 'measurement' AND type = 'table'\n",
      "2019-02-08 15:36:44,323 INFO sqlalchemy.engine.base.Engine ()\n",
      "2019-02-08 15:36:44,326 INFO sqlalchemy.engine.base.Engine PRAGMA table_info(\"station\")\n",
      "2019-02-08 15:36:44,327 INFO sqlalchemy.engine.base.Engine ()\n",
      "2019-02-08 15:36:44,328 INFO sqlalchemy.engine.base.Engine SELECT sql FROM  (SELECT * FROM sqlite_master UNION ALL   SELECT * FROM sqlite_temp_master) WHERE name = 'station' AND type = 'table'\n",
      "2019-02-08 15:36:44,329 INFO sqlalchemy.engine.base.Engine ()\n",
      "2019-02-08 15:36:44,331 INFO sqlalchemy.engine.base.Engine PRAGMA foreign_key_list(\"station\")\n",
      "2019-02-08 15:36:44,333 INFO sqlalchemy.engine.base.Engine ()\n",
      "2019-02-08 15:36:44,334 INFO sqlalchemy.engine.base.Engine SELECT sql FROM  (SELECT * FROM sqlite_master UNION ALL   SELECT * FROM sqlite_temp_master) WHERE name = 'station' AND type = 'table'\n",
      "2019-02-08 15:36:44,336 INFO sqlalchemy.engine.base.Engine ()\n",
      "2019-02-08 15:36:44,337 INFO sqlalchemy.engine.base.Engine PRAGMA index_list(\"station\")\n",
      "2019-02-08 15:36:44,339 INFO sqlalchemy.engine.base.Engine ()\n",
      "2019-02-08 15:36:44,341 INFO sqlalchemy.engine.base.Engine PRAGMA index_list(\"station\")\n",
      "2019-02-08 15:36:44,342 INFO sqlalchemy.engine.base.Engine ()\n",
      "2019-02-08 15:36:44,343 INFO sqlalchemy.engine.base.Engine SELECT sql FROM  (SELECT * FROM sqlite_master UNION ALL   SELECT * FROM sqlite_temp_master) WHERE name = 'station' AND type = 'table'\n",
      "2019-02-08 15:36:44,344 INFO sqlalchemy.engine.base.Engine ()\n"
     ]
    }
   ],
   "source": [
    "import numpy as np\n",
    "\n",
    "import sqlalchemy\n",
    "from sqlalchemy.ext.automap import automap_base\n",
    "from sqlalchemy.orm import Session\n",
    "from sqlalchemy import create_engine, func, inspect\n",
    "\n",
    "from flask import Flask, jsonify\n",
    "import datetime as dt\n",
    "\n",
    "\n",
    "# Relative Date\n",
    "\n",
    "\n",
    "#################################################\n",
    "# Database Setup\n",
    "#################################################\n",
    "engine = create_engine(\"sqlite:///Resources/hawaii.sqlite\", connect_args={'check_same_thread': False}, echo=True)\n",
    "# reflect an existing database into a new model\n",
    "Base = automap_base()\n",
    "# reflect the tables\n",
    "Base.prepare(engine, reflect=True)"
   ]
  },
  {
   "cell_type": "code",
   "execution_count": null,
   "metadata": {},
   "outputs": [],
   "source": []
  }
 ],
 "metadata": {
  "kernelspec": {
   "display_name": "Python 3",
   "language": "python",
   "name": "python3"
  },
  "language_info": {
   "codemirror_mode": {
    "name": "ipython",
    "version": 3
   },
   "file_extension": ".py",
   "mimetype": "text/x-python",
   "name": "python",
   "nbconvert_exporter": "python",
   "pygments_lexer": "ipython3",
   "version": "3.6.7"
  }
 },
 "nbformat": 4,
 "nbformat_minor": 2
}
